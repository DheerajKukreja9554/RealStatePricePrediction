{
 "cells": [
  {
   "cell_type": "code",
   "execution_count": 13,
   "id": "2c69b353",
   "metadata": {},
   "outputs": [],
   "source": [
    "import numpy as np\n",
    "import pandas as pd\n",
    "import matplotlib.pyplot as plt"
   ]
  },
  {
   "cell_type": "code",
   "execution_count": 14,
   "id": "fe5730f2",
   "metadata": {},
   "outputs": [],
   "source": [
    "from sklearn import linear_model\n",
    "from sklearn.model_selection import train_test_split"
   ]
  },
  {
   "cell_type": "code",
   "execution_count": 15,
   "id": "193097d4",
   "metadata": {},
   "outputs": [],
   "source": [
    "housing_data=pd.read_csv('datas/real_state/housing_train.csv')"
   ]
  },
  {
   "cell_type": "code",
   "execution_count": 16,
   "id": "d24912c6",
   "metadata": {},
   "outputs": [],
   "source": [
    "housing_data.drop(['Unnamed: 0'],axis=1,inplace=True)"
   ]
  },
  {
   "cell_type": "code",
   "execution_count": 17,
   "id": "65d4ddcd",
   "metadata": {},
   "outputs": [],
   "source": [
    "housing_data.set_index('Id',inplace=True)"
   ]
  },
  {
   "cell_type": "code",
   "execution_count": 18,
   "id": "7d0f81af",
   "metadata": {},
   "outputs": [],
   "source": [
    "# we will try with vector and matrix mehod\n",
    "# X and y are matrices and constants are in theta matrix\n",
    "def linear_regressor_model(data_x:np.ndarray,data_y:np.ndarray,learning=0.001,epochs=1000):\n",
    "    \n",
    "    m=data_y.size\n",
    "    \n",
    "#   preprocessing(taking preliminary values of coef and intercept as 1 and adding one more column in data_x for mat_mul with intercept and making Y as )\n",
    "#   ===============================\n",
    "    theta=np.ones(data_x.shape[1]+1)\n",
    "    data_x=np.insert(data_x,0,np.ones(data_x.shape[0]),axis=1)\n",
    "#   ===============================\n",
    "\n",
    "#   predicting y\n",
    "#   ===============================\n",
    "    cost_list=[]\n",
    "    for i in range(epochs):\n",
    "        y_pred=np.matmul(data_x,theta)\n",
    "        cost=(1/(2*m))*np.sum(np.square(y_pred-data_y))#calculating cost\n",
    "        d_theta=(1/m)*np.dot(data_x.T,(y_pred-data_y))#calculating d_theta\n",
    "        \n",
    "        cost_list.append(cost)\n",
    "        if(i%(epochs//10)==0):\n",
    "#             print(d_theta)\n",
    "            print(cost)\n",
    "        \n",
    "        theta=theta-learning*d_theta\n",
    "    plt.plot(cost_list)\n",
    "    print(data_x.shape,data_y.shape,y_pred.shape)\n",
    "    return theta[0],theta[1:],y_pred #returns intecept,coefficients and trained data\n",
    "#   this is a better model"
   ]
  },
  {
   "cell_type": "code",
   "execution_count": 19,
   "id": "bf94b6ec",
   "metadata": {},
   "outputs": [
    {
     "name": "stdout",
     "output_type": "stream",
     "text": [
      "<class 'pandas.core.frame.DataFrame'>\n",
      "Int64Index: 1200 entries, 1 to 1201\n",
      "Data columns (total 70 columns):\n",
      " #   Column         Non-Null Count  Dtype  \n",
      "---  ------         --------------  -----  \n",
      " 0   MSSubClass     1200 non-null   int64  \n",
      " 1   MSZoning       1200 non-null   int64  \n",
      " 2   LotArea        1200 non-null   int64  \n",
      " 3   Street         1200 non-null   int64  \n",
      " 4   LotShape       1200 non-null   int64  \n",
      " 5   LandContour    1200 non-null   int64  \n",
      " 6   Utilities      1200 non-null   int64  \n",
      " 7   LotConfig      1200 non-null   int64  \n",
      " 8   LandSlope      1200 non-null   int64  \n",
      " 9   Neighborhood   1200 non-null   int64  \n",
      " 10  Condition1     1200 non-null   int64  \n",
      " 11  Condition2     1200 non-null   int64  \n",
      " 12  BldgType       1200 non-null   int64  \n",
      " 13  HouseStyle     1200 non-null   int64  \n",
      " 14  OverallQual    1200 non-null   int64  \n",
      " 15  OverallCond    1200 non-null   int64  \n",
      " 16  YearBuilt      1200 non-null   int64  \n",
      " 17  YearRemodAdd   1200 non-null   int64  \n",
      " 18  RoofStyle      1200 non-null   int64  \n",
      " 19  RoofMatl       1200 non-null   int64  \n",
      " 20  Exterior1st    1200 non-null   int64  \n",
      " 21  Exterior2nd    1200 non-null   int64  \n",
      " 22  MasVnrType     1200 non-null   int64  \n",
      " 23  MasVnrArea     1200 non-null   float64\n",
      " 24  ExterQual      1200 non-null   int64  \n",
      " 25  ExterCond      1200 non-null   int64  \n",
      " 26  Foundation     1200 non-null   int64  \n",
      " 27  BsmtQual       1200 non-null   int64  \n",
      " 28  BsmtCond       1200 non-null   int64  \n",
      " 29  BsmtExposure   1200 non-null   int64  \n",
      " 30  BsmtFinType1   1200 non-null   int64  \n",
      " 31  BsmtFinSF1     1200 non-null   int64  \n",
      " 32  BsmtFinType2   1200 non-null   int64  \n",
      " 33  BsmtFinSF2     1200 non-null   int64  \n",
      " 34  BsmtUnfSF      1200 non-null   int64  \n",
      " 35  TotalBsmtSF    1200 non-null   int64  \n",
      " 36  Heating        1200 non-null   int64  \n",
      " 37  HeatingQC      1200 non-null   int64  \n",
      " 38  CentralAir     1200 non-null   int64  \n",
      " 39  Electrical     1200 non-null   int64  \n",
      " 40  2ndFlrSF       1200 non-null   int64  \n",
      " 41  LowQualFinSF   1200 non-null   int64  \n",
      " 42  GrLivArea      1200 non-null   int64  \n",
      " 43  BsmtFullBath   1200 non-null   int64  \n",
      " 44  BsmtHalfBath   1200 non-null   int64  \n",
      " 45  FullBath       1200 non-null   int64  \n",
      " 46  HalfBath       1200 non-null   int64  \n",
      " 47  BedroomAbvGr   1200 non-null   int64  \n",
      " 48  KitchenAbvGr   1200 non-null   int64  \n",
      " 49  KitchenQual    1200 non-null   int64  \n",
      " 50  Functional     1200 non-null   int64  \n",
      " 51  Fireplaces     1200 non-null   int64  \n",
      " 52  GarageType     1200 non-null   int64  \n",
      " 53  GarageFinish   1200 non-null   int64  \n",
      " 54  GarageCars     1200 non-null   int64  \n",
      " 55  GarageQual     1200 non-null   int64  \n",
      " 56  GarageCond     1200 non-null   int64  \n",
      " 57  PavedDrive     1200 non-null   int64  \n",
      " 58  WoodDeckSF     1200 non-null   int64  \n",
      " 59  OpenPorchSF    1200 non-null   int64  \n",
      " 60  EnclosedPorch  1200 non-null   int64  \n",
      " 61  3SsnPorch      1200 non-null   int64  \n",
      " 62  ScreenPorch    1200 non-null   int64  \n",
      " 63  PoolArea       1200 non-null   int64  \n",
      " 64  MiscVal        1200 non-null   int64  \n",
      " 65  MoSold         1200 non-null   int64  \n",
      " 66  YrSold         1200 non-null   int64  \n",
      " 67  SaleType       1200 non-null   int64  \n",
      " 68  SaleCondition  1200 non-null   int64  \n",
      " 69  SalePrice      1200 non-null   float64\n",
      "dtypes: float64(2), int64(68)\n",
      "memory usage: 665.6 KB\n"
     ]
    }
   ],
   "source": [
    "housing_data.info()"
   ]
  },
  {
   "cell_type": "code",
   "execution_count": 20,
   "id": "08da3cf8",
   "metadata": {},
   "outputs": [],
   "source": [
    "train_data=housing_data.values\n",
    "X=train_data[:,:-1]\n",
    "Y=train_data[:,-1]"
   ]
  },
  {
   "cell_type": "code",
   "execution_count": 21,
   "id": "4a0390f7",
   "metadata": {},
   "outputs": [
    {
     "name": "stdout",
     "output_type": "stream",
     "text": [
      "281146797.4991918\n",
      "1.393664766811998e+19\n",
      "7.464515092348266e+29\n",
      "3.998350872662612e+40\n",
      "2.1417079193878535e+51\n",
      "1.1472011733002782e+62\n",
      "6.1449580501052734e+72\n",
      "3.2915333697684297e+83\n",
      "1.7631026666021764e+94\n",
      "9.444020958530942e+104\n",
      "(1200, 70) (1200,) (1200,)\n"
     ]
    },
    {
     "data": {
      "image/png": "[encoded data removed]",
      "text/plain": [
       "<Figure size 432x288 with 1 Axes>"
      ]
     },
     "metadata": {
      "needs_background": "light"
     },
     "output_type": "display_data"
    }
   ],
   "source": [
    "intercept,coefficients,trained=linear_regressor_model(X,Y,learning=.001,epochs=10)"
   ]
  },
  {
   "cell_type": "code",
   "execution_count": null,
   "id": "4984ffd2",
   "metadata": {},
   "outputs": [],
   "source": [
    "multiple_linear_regressor_loss(Y,trained)"
   ]
  },
  {
   "cell_type": "code",
   "execution_count": null,
   "id": "4d38958e",
   "metadata": {},
   "outputs": [],
   "source": [
    "lr=linear_model.LinearRegression()"
   ]
  },
  {
   "cell_type": "code",
   "execution_count": null,
   "id": "63b27683",
   "metadata": {},
   "outputs": [],
   "source": [
    "lr.fit(X,Y)"
   ]
  },
  {
   "cell_type": "code",
   "execution_count": null,
   "id": "5890dd40",
   "metadata": {},
   "outputs": [],
   "source": [
    "print (lr.intercept_)"
   ]
  },
  {
   "cell_type": "code",
   "execution_count": null,
   "id": "9eda9ae0",
   "metadata": {},
   "outputs": [],
   "source": [
    "multiple_linear_regressor_loss(lr.predict(X),Y)"
   ]
  }
 ],
 "metadata": {
  "kernelspec": {
   "display_name": "Python 3 (ipykernel)",
   "language": "python",
   "name": "python3"
  },
  "language_info": {
   "codemirror_mode": {
    "name": "ipython",
    "version": 3
   },
   "file_extension": ".py",
   "mimetype": "text/x-python",
   "name": "python",
   "nbconvert_exporter": "python",
   "pygments_lexer": "ipython3",
   "version": "3.9.9"
  }
 },
 "nbformat": 4,
 "nbformat_minor": 5
}
